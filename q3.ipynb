{
 "cells": [
  {
   "cell_type": "code",
   "execution_count": 3,
   "metadata": {},
   "outputs": [
    {
     "name": "stdout",
     "output_type": "stream",
     "text": [
      "Trunctable prmie :  23\n",
      "Trunctable prmie :  37\n",
      "Trunctable prmie :  53\n",
      "Trunctable prmie :  73\n",
      "Trunctable prmie :  313\n",
      "Trunctable prmie :  317\n",
      "Trunctable prmie :  373\n",
      "Trunctable prmie :  797\n",
      "Trunctable prmie :  3137\n",
      "Trunctable prmie :  3797\n",
      "Trunctable prmie :  739397\n",
      "Sum of all trunctable numbers is  :  748317\n"
     ]
    }
   ],
   "source": [
    "import math\n",
    "\n",
    "flag = 1\n",
    "l_to_r = 1\n",
    "r_to_l = 1\n",
    "def prime(i):\n",
    "    if i == 1:\n",
    "        return 0\n",
    "    flag=1\n",
    "    sqr = math.sqrt(i)\n",
    "    if(type(sqr)==float):\n",
    "        sqr=int(sqr)\n",
    "        sqr+=1\n",
    "    for j in range(2,sqr):\n",
    "        if i % j == 0 :  \n",
    "            flag = 0\n",
    "            break\n",
    "    return flag\n",
    "\n",
    "def left_to_right(no):\n",
    "    l_to_r=1\n",
    "    for i in range(0,length):\n",
    "        l_to_r=prime(no)\n",
    "        if l_to_r==1:\n",
    "            no=no//10\n",
    "        else:\n",
    "            break\n",
    "    return l_to_r\n",
    "\n",
    "def right_to_left(no):\n",
    "    r_to_l=1\n",
    "    \n",
    "    for i in range(0,length):\n",
    "        ten = 10**(length-1-i)\n",
    "        r_to_l=prime(no)\n",
    "        if r_to_l==1:\n",
    "            no = no % ten\n",
    "        else:\n",
    "            break\n",
    "    return r_to_l\n",
    "\n",
    "add = 0\n",
    "\n",
    "for num in range (10,1000000):\n",
    "\n",
    "    length = int(math.log10(num))+1\n",
    "\n",
    "\n",
    "    l_to_r = left_to_right(num)\n",
    "    r_to_l = right_to_left(num)\n",
    "\n",
    "    if l_to_r == 1 and r_to_l == 1:\n",
    "        print(\"Trunctable prmie : \",num)\n",
    "        add= add + num\n",
    "    \n",
    "\n",
    "\n",
    "print(\"Sum of all trunctable numbers is  : \",add)"
   ]
  },
  {
   "cell_type": "markdown",
   "metadata": {},
   "source": []
  },
  {
   "cell_type": "code",
   "execution_count": null,
   "metadata": {},
   "outputs": [],
   "source": []
  }
 ],
 "metadata": {
  "kernelspec": {
   "display_name": "Python 3",
   "language": "python",
   "name": "python3"
  },
  "language_info": {
   "codemirror_mode": {
    "name": "ipython",
    "version": 3
   },
   "file_extension": ".py",
   "mimetype": "text/x-python",
   "name": "python",
   "nbconvert_exporter": "python",
   "pygments_lexer": "ipython3",
   "version": "3.6.10"
  }
 },
 "nbformat": 4,
 "nbformat_minor": 2
}
