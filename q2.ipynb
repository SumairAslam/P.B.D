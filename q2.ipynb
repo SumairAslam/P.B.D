{
 "cells": [
  {
   "cell_type": "code",
   "execution_count": 27,
   "metadata": {},
   "outputs": [
    {
     "name": "stdout",
     "output_type": "stream",
     "text": [
      "Enter a limit : 1000\n",
      "953  is the longest sum of consecutive primes that adds to a prime below  1000\n",
      "Consecutive Numbers  :  21\n"
     ]
    }
   ],
   "source": [
    "import math\n",
    "import array as arr\n",
    "num = int(input(\"Enter a limit : \"))\n",
    "\n",
    "flag =1\n",
    "flag2=1\n",
    "flag3=1\n",
    "def prime(i):\n",
    "    flag=1\n",
    "    sqr = math.sqrt(i)\n",
    "    if(type(sqr)==float):\n",
    "        sqr=int(sqr)\n",
    "        sqr+=1\n",
    "    for j in range(2,sqr):\n",
    "        if i % j == 0 :  \n",
    "            flag = 0\n",
    "            break\n",
    "    return flag\n",
    "\n",
    "def next_prime(no):\n",
    "    flag2=0\n",
    "    for i in range(no+1,num):\n",
    "        flag2 = prime(i)\n",
    "        if flag2 == 1 :\n",
    "            no=i\n",
    "            break\n",
    "    return no\n",
    "\n",
    "max_value=0\n",
    "max_count=0\n",
    "count =0\n",
    "cnt=0\n",
    "add=0\n",
    "sum_add=0\n",
    "prime_start=2\n",
    "while(1):\n",
    "    \n",
    "    for i in range(prime_start,num):\n",
    "        flag3=0\n",
    "        flag = prime(i)\n",
    "        if flag == 1:\n",
    "            add = add + i\n",
    "            cnt = cnt + 1\n",
    "            flag3=prime(add)\n",
    "        if add > num:\n",
    "            break\n",
    "        if flag3==1:\n",
    "            sum_add=add\n",
    "            count = cnt\n",
    "        \n",
    "    \n",
    "    if max_value<sum_add:\n",
    "        max_value = sum_add\n",
    "        max_count = count\n",
    "        add=0\n",
    "        cnt = 0\n",
    "        count=0\n",
    "        prime_start = next_prime(prime_start)\n",
    "    else:\n",
    "        break\n",
    "print(max_value,\" is the longest sum of consecutive primes that adds to a prime below \",num)\n",
    "print(\"Consecutive Numbers  : \", max_count)\n"
   ]
  },
  {
   "cell_type": "code",
   "execution_count": null,
   "metadata": {},
   "outputs": [],
   "source": [
    "\n"
   ]
  },
  {
   "cell_type": "code",
   "execution_count": null,
   "metadata": {},
   "outputs": [],
   "source": []
  }
 ],
 "metadata": {
  "kernelspec": {
   "display_name": "Python 3",
   "language": "python",
   "name": "python3"
  },
  "language_info": {
   "codemirror_mode": {
    "name": "ipython",
    "version": 3
   },
   "file_extension": ".py",
   "mimetype": "text/x-python",
   "name": "python",
   "nbconvert_exporter": "python",
   "pygments_lexer": "ipython3",
   "version": "3.6.10"
  }
 },
 "nbformat": 4,
 "nbformat_minor": 2
}
