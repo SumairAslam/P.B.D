{
 "cells": [
  {
   "cell_type": "code",
   "execution_count": 70,
   "metadata": {},
   "outputs": [
    {
     "name": "stdout",
     "output_type": "stream",
     "text": [
      "Enter any number : 200\n",
      "2  Circular prime\n",
      "3  Circular prime\n",
      "5  Circular prime\n",
      "7  Circular prime\n",
      "11  Circular prime\n",
      "13  Circular prime\n",
      "17  Circular prime\n",
      "31  Circular prime\n",
      "37  Circular prime\n",
      "71  Circular prime\n",
      "73  Circular prime\n",
      "79  Circular prime\n",
      "97  Circular prime\n",
      "113  Circular prime\n",
      "131  Circular prime\n",
      "197  Circular prime\n",
      "199  Circular prime\n",
      "Total circular prime numbers :  17\n"
     ]
    }
   ],
   "source": [
    "import math\n",
    "num  = int(input(\"Enter any number : \"))\n",
    "\n",
    "flag =1\n",
    "flag2=1\n",
    "def prime(i):\n",
    "    flag=1\n",
    "    sqr = math.sqrt(i)\n",
    "    if(type(sqr)==float):\n",
    "        sqr=int(sqr)\n",
    "        sqr+=1\n",
    "    for j in range(2,sqr):\n",
    "        if i % j == 0 :  \n",
    "            flag = 0\n",
    "            break\n",
    "    return flag\n",
    "    \n",
    "count = 0\n",
    "for i in range(2,num):\n",
    "    \n",
    "    flag = prime(i)\n",
    "\n",
    "    if(flag == 1 ):\n",
    "        if i>10:\n",
    "            length = int(math.log10(i))+1\n",
    "            flag2=1\n",
    "            rem=0\n",
    "            no=i\n",
    "            ten=10**(length-1)\n",
    "            for x in range(0,length-1):\n",
    "                if x > 0:\n",
    "                    no=rem\n",
    "                    rem=0\n",
    "                    \n",
    "                rem = int(no%ten)\n",
    "                no= int(no/ten)\n",
    "                rem = int(rem * 10)\n",
    "                rem = rem+no   \n",
    "                flag2 = prime(rem)\n",
    "                if flag2==0:\n",
    "                    break\n",
    "                    \n",
    "            if flag2==1:\n",
    "                print(i , \" Circular prime\")\n",
    "                count = count + 1\n",
    "        else:\n",
    "                print(i , \" Circular prime\")\n",
    "                count = count + 1\n",
    "print(\"Total circular prime numbers : \",count)"
   ]
  },
  {
   "cell_type": "code",
   "execution_count": null,
   "metadata": {},
   "outputs": [],
   "source": []
  },
  {
   "cell_type": "code",
   "execution_count": null,
   "metadata": {},
   "outputs": [],
   "source": []
  }
 ],
 "metadata": {
  "kernelspec": {
   "display_name": "Python 3",
   "language": "python",
   "name": "python3"
  },
  "language_info": {
   "codemirror_mode": {
    "name": "ipython",
    "version": 3
   },
   "file_extension": ".py",
   "mimetype": "text/x-python",
   "name": "python",
   "nbconvert_exporter": "python",
   "pygments_lexer": "ipython3",
   "version": "3.6.10"
  }
 },
 "nbformat": 4,
 "nbformat_minor": 2
}
